{
 "cells": [
  {
   "cell_type": "code",
   "execution_count": null,
   "metadata": {},
   "outputs": [],
   "source": [
    "# Homeowork 9 continued"
   ]
  },
  {
   "cell_type": "code",
   "execution_count": 4,
   "metadata": {},
   "outputs": [],
   "source": [
    "# Below I have copied what I have already done towards this homework\n"
   ]
  },
  {
   "cell_type": "code",
   "execution_count": 5,
   "metadata": {},
   "outputs": [
    {
     "name": "stdout",
     "output_type": "stream",
     "text": [
      "    Year  Unemployment Rate \n",
      "0   2010                 7.8\n",
      "1   2011                 8.1\n",
      "2   2012                 7.9\n",
      "3   2013                 7.6\n",
      "4   2014                 6.2\n",
      "5   2015                 5.3\n",
      "6   2016                 4.8\n",
      "7   2017                 4.4\n",
      "8   2018                 4.1\n",
      "9   2019                 3.9\n",
      "10  2020                 4.7\n",
      "    Year   Number of People Homeless for at least 1 Night\n",
      "0   2010                                             1768\n",
      "1   2011                                             2181\n",
      "2   2012                                             2309\n",
      "3   2013                                             2414\n",
      "4   2014                                             2744\n",
      "5   2015                                             3569\n",
      "6   2016                                             4134\n",
      "7   2017                                             4751\n",
      "8   2018                                             4677\n",
      "9   2019                                             4266\n",
      "10  2020                                             2688\n",
      "    Year  Unemployment Rate   Year_right  \\\n",
      "0   2010                 7.8        2010   \n",
      "1   2011                 8.1        2011   \n",
      "2   2012                 7.9        2012   \n",
      "3   2013                 7.6        2013   \n",
      "4   2014                 6.2        2014   \n",
      "5   2015                 5.3        2015   \n",
      "6   2016                 4.8        2016   \n",
      "7   2017                 4.4        2017   \n",
      "8   2018                 4.1        2018   \n",
      "9   2019                 3.9        2019   \n",
      "10  2020                 4.7        2020   \n",
      "\n",
      "     Number of People Homeless for at least 1 Night  \n",
      "0                                              1768  \n",
      "1                                              2181  \n",
      "2                                              2309  \n",
      "3                                              2414  \n",
      "4                                              2744  \n",
      "5                                              3569  \n",
      "6                                              4134  \n",
      "7                                              4751  \n",
      "8                                              4677  \n",
      "9                                              4266  \n",
      "10                                             2688  \n"
     ]
    }
   ],
   "source": [
    "# Importing requests so Python can capture data from my raw github (I later changed to use the pd.read_csv command)\n",
    "import requests\n",
    "\n",
    "# Importing pandas to make data tables\n",
    "import pandas as pd\n",
    "\n",
    "# Getting pandas to make a dataframe from the unemployment data uploaded to my github\n",
    "\n",
    "url1 = \"https://raw.githubusercontent.com/EliezerMeyer/EliezerMeyer.github.io/main/England%20Unemployment%20Data.csv\"\n",
    "unemploymentdata = pd.read_csv(url1)\n",
    "df1 = pd.DataFrame(unemploymentdata)\n",
    "print(df1)\n",
    "\n",
    "# Getting pandas to make a dataframe from the homelessness data uploaded to my github\n",
    "\n",
    "url2 = \"https://raw.githubusercontent.com/EliezerMeyer/EliezerMeyer.github.io/main/England%20Homlessness%20Data.csv\"\n",
    "homelessnessdata = pd.read_csv(url2)\n",
    "df2 = pd.DataFrame(homelessnessdata)\n",
    "print(df2)\n",
    "\n",
    "# Performing the data join\n",
    "df3 = df1.join(df2,rsuffix=\"_right\")\n",
    "\n",
    "# Changing the settings in pandas so I can see the whole dataframe to confirm whether the task has been done right\n",
    "\n",
    "pd.set_option(\"display.max_rows\", None, \"display.max_columns\", None)\n",
    "print (df3)\n",
    "\n",
    "# Time for advanced analytics\n",
    "\n",
    "# Importing helpful libraries\n",
    "\n",
    "import matplotlib.pyplot as plt\n",
    "import numpy as np\n",
    "\n",
    "# Making it easier to plot the data\n",
    "\n",
    "x = df3[\"Year\"].values\n",
    "y1 = df3[df3.columns[1]]\n",
    "y2 = df3[df3.columns[3]]\n",
    "\n",
    "# Importing Searborn\n",
    "\n",
    "import seaborn as sns\n",
    "\n",
    "# Making sure the final figure is a size that matches my other charts\n",
    "\n",
    "sns.set(rc = {'figure.figsize': (5.729,5.729)})\n",
    "\n",
    "# Running a regression to see the relationship between the unemployment rate and the number of people who had to sleep rough one night in Autumn in England\n",
    "\n",
    "sns.regplot(x=y1, y=y2)\n",
    "plt.xlabel('Unemployment Rate (%)', size=12)\n",
    "plt.ylabel('Number of People Homeless for at least one night in Autumn', size=12)\n",
    "plt.title('Unemployment and Homelessness')\n",
    "plt.savefig(r'C:\\Users\\meyer\\github\\EliezerMeyer.github.io\\Homework9_regressionimage.png')\n"
   ]
  },
  {
   "cell_type": "code",
   "execution_count": 6,
   "metadata": {},
   "outputs": [],
   "source": [
    "# I continue from here"
   ]
  },
  {
   "cell_type": "code",
   "execution_count": null,
   "metadata": {},
   "outputs": [],
   "source": []
  }
 ],
 "metadata": {
  "interpreter": {
   "hash": "f75973376c32cb1c3447852ef390cf61392133a91627be931df09366f2bfa909"
  },
  "kernelspec": {
   "display_name": "Python 3.7.3 64-bit",
   "language": "python",
   "name": "python3"
  },
  "language_info": {
   "codemirror_mode": {
    "name": "ipython",
    "version": 3
   },
   "file_extension": ".py",
   "mimetype": "text/x-python",
   "name": "python",
   "nbconvert_exporter": "python",
   "pygments_lexer": "ipython3",
   "version": "3.7.3"
  },
  "orig_nbformat": 4
 },
 "nbformat": 4,
 "nbformat_minor": 2
}

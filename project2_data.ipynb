{
 "cells": [
  {
   "cell_type": "code",
   "execution_count": 1,
   "metadata": {},
   "outputs": [],
   "source": [
    "# This graph utilises the data that I gathered (in a very automated fashion) for chart 1 in \"project1_data.py\". \n",
    "# I have done this in a separate python file to more clearly display my working, however I could have done this directly using the dataframes (more specifically \"df5\") in \"project1_data.py\"\n",
    "# When I run \"project1_data.py\", the datasource for this python file automatically updates\n"
   ]
  },
  {
   "cell_type": "code",
   "execution_count": 2,
   "metadata": {},
   "outputs": [],
   "source": [
    "# Chart 1 seemed not to show a clear relationship between Innovation and Wealth Inequalty, but displayed that this relationship might be more clear when accounting for a country's income level\n",
    "# To test this, I will run regressions on all the data, and then for different income levels"
   ]
  },
  {
   "cell_type": "code",
   "execution_count": 3,
   "metadata": {},
   "outputs": [],
   "source": [
    "# Importing the necessary modules\n",
    "\n"
   ]
  }
 ],
 "metadata": {
  "interpreter": {
   "hash": "f75973376c32cb1c3447852ef390cf61392133a91627be931df09366f2bfa909"
  },
  "kernelspec": {
   "display_name": "Python 3.7.3 64-bit",
   "language": "python",
   "name": "python3"
  },
  "language_info": {
   "codemirror_mode": {
    "name": "ipython",
    "version": 3
   },
   "file_extension": ".py",
   "mimetype": "text/x-python",
   "name": "python",
   "nbconvert_exporter": "python",
   "pygments_lexer": "ipython3",
   "version": "3.7.3"
  },
  "orig_nbformat": 4
 },
 "nbformat": 4,
 "nbformat_minor": 2
}
